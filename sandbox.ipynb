{
  "cells": [
    {
      "cell_type": "code",
      "source": [
        "%matplotlib inline\n",
        "import matplotlib\n",
        "import matplotlib.pyplot as plt\n",
        "from matplotlib.patches import Rectangle, Ellipse\n",
        "from matplotlib.lines import Line2D\n",
        "import matplotlib.image as mpimg\n",
        "import numpy as np\n",
        "import pandas as pd\n",
        "from astropy.io import fits\n",
        "from astropy.wcs import WCS\n",
        "from scipy.ndimage import interpolation as ipt\n",
        "from scipy.ndimage import map_coordinates\n",
        "import skimage.transform as transform"
      ],
      "outputs": [],
      "execution_count": 1,
      "metadata": {
        "collapsed": false,
        "outputHidden": false,
        "inputHidden": false
      }
    },
    {
      "cell_type": "code",
      "source": [
        "df = pd.DataFrame.from_dict({\n",
        "    'file name': [\n",
        "        'agc4109natural_kmh20kms.edit4_mom0.fits',\n",
        "        '9244_CLN_V2_0.edit3_mom0.fits',\n",
        "        'agc6871all_natural_kmh20kms.edit3smo_mom0.fits',\n",
        "        '9362_CLN_V2_4.edit1_mom0.fits',\n",
        "        '8408_CLN_V2_0.edit1_mom0.fits',\n",
        "        'B10_ALL_NAT.APCLN.edit6_mom0.fits',\n",
        "    ],\n",
        "    'rotation': [i for i in [82.83, 39.01, 33.74, 64.5, -37.45, 40.42]],\n",
        "    'pixel size': [1.7, 2, 1.4, 2, 2, 1.7],\n",
        "    'bar length': [15.0, 15.8, 13.4, 18.2, 10.4, 9.6],\n",
        "    'beam major': [8.93745, 7.7544, 5.89444, 7.28172, 9.61848, 10.8678],\n",
        "    'beam minor': [5.09657, 5.27256, 4.7826, 4.8024, 4.7592, 5.08985],\n",
        "    'beam pa': [-56.1455, 69.09, -32.4369, 62.98, 80.73, -56.165],\n",
        "    'ra': [119.0693, 216.53495, 178.44321, 218.32296, 200.7516, 185.00551],\n",
        "    'dec': [11.66217, 5.23793, 10.40315, 3.9034, 13.95065, 8.60778],\n",
        "})\n",
        "df"
      ],
      "outputs": [
        {
          "output_type": "execute_result",
          "execution_count": 2,
          "data": {
            "text/plain": [
              "                                        file name  rotation  pixel size  \\\n",
              "0         agc4109natural_kmh20kms.edit4_mom0.fits     82.83         1.7   \n",
              "1                   9244_CLN_V2_0.edit3_mom0.fits     39.01         2.0   \n",
              "2  agc6871all_natural_kmh20kms.edit3smo_mom0.fits     33.74         1.4   \n",
              "3                   9362_CLN_V2_4.edit1_mom0.fits     64.50         2.0   \n",
              "4                   8408_CLN_V2_0.edit1_mom0.fits    -37.45         2.0   \n",
              "5               B10_ALL_NAT.APCLN.edit6_mom0.fits     40.42         1.7   \n",
              "\n",
              "   bar length  beam major  beam minor  beam pa         ra       dec  \n",
              "0        15.0     8.93745     5.09657 -56.1455  119.06930  11.66217  \n",
              "1        15.8     7.75440     5.27256  69.0900  216.53495   5.23793  \n",
              "2        13.4     5.89444     4.78260 -32.4369  178.44321  10.40315  \n",
              "3        18.2     7.28172     4.80240  62.9800  218.32296   3.90340  \n",
              "4        10.4     9.61848     4.75920  80.7300  200.75160  13.95065  \n",
              "5         9.6    10.86780     5.08985 -56.1650  185.00551   8.60778  "
            ],
            "text/html": [
              "<div>\n",
              "<style scoped>\n",
              "    .dataframe tbody tr th:only-of-type {\n",
              "        vertical-align: middle;\n",
              "    }\n",
              "\n",
              "    .dataframe tbody tr th {\n",
              "        vertical-align: top;\n",
              "    }\n",
              "\n",
              "    .dataframe thead th {\n",
              "        text-align: right;\n",
              "    }\n",
              "</style>\n",
              "<table border=\"1\" class=\"dataframe\">\n",
              "  <thead>\n",
              "    <tr style=\"text-align: right;\">\n",
              "      <th></th>\n",
              "      <th>file name</th>\n",
              "      <th>rotation</th>\n",
              "      <th>pixel size</th>\n",
              "      <th>bar length</th>\n",
              "      <th>beam major</th>\n",
              "      <th>beam minor</th>\n",
              "      <th>beam pa</th>\n",
              "      <th>ra</th>\n",
              "      <th>dec</th>\n",
              "    </tr>\n",
              "  </thead>\n",
              "  <tbody>\n",
              "    <tr>\n",
              "      <th>0</th>\n",
              "      <td>agc4109natural_kmh20kms.edit4_mom0.fits</td>\n",
              "      <td>82.83</td>\n",
              "      <td>1.7</td>\n",
              "      <td>15.0</td>\n",
              "      <td>8.93745</td>\n",
              "      <td>5.09657</td>\n",
              "      <td>-56.1455</td>\n",
              "      <td>119.06930</td>\n",
              "      <td>11.66217</td>\n",
              "    </tr>\n",
              "    <tr>\n",
              "      <th>1</th>\n",
              "      <td>9244_CLN_V2_0.edit3_mom0.fits</td>\n",
              "      <td>39.01</td>\n",
              "      <td>2.0</td>\n",
              "      <td>15.8</td>\n",
              "      <td>7.75440</td>\n",
              "      <td>5.27256</td>\n",
              "      <td>69.0900</td>\n",
              "      <td>216.53495</td>\n",
              "      <td>5.23793</td>\n",
              "    </tr>\n",
              "    <tr>\n",
              "      <th>2</th>\n",
              "      <td>agc6871all_natural_kmh20kms.edit3smo_mom0.fits</td>\n",
              "      <td>33.74</td>\n",
              "      <td>1.4</td>\n",
              "      <td>13.4</td>\n",
              "      <td>5.89444</td>\n",
              "      <td>4.78260</td>\n",
              "      <td>-32.4369</td>\n",
              "      <td>178.44321</td>\n",
              "      <td>10.40315</td>\n",
              "    </tr>\n",
              "    <tr>\n",
              "      <th>3</th>\n",
              "      <td>9362_CLN_V2_4.edit1_mom0.fits</td>\n",
              "      <td>64.50</td>\n",
              "      <td>2.0</td>\n",
              "      <td>18.2</td>\n",
              "      <td>7.28172</td>\n",
              "      <td>4.80240</td>\n",
              "      <td>62.9800</td>\n",
              "      <td>218.32296</td>\n",
              "      <td>3.90340</td>\n",
              "    </tr>\n",
              "    <tr>\n",
              "      <th>4</th>\n",
              "      <td>8408_CLN_V2_0.edit1_mom0.fits</td>\n",
              "      <td>-37.45</td>\n",
              "      <td>2.0</td>\n",
              "      <td>10.4</td>\n",
              "      <td>9.61848</td>\n",
              "      <td>4.75920</td>\n",
              "      <td>80.7300</td>\n",
              "      <td>200.75160</td>\n",
              "      <td>13.95065</td>\n",
              "    </tr>\n",
              "    <tr>\n",
              "      <th>5</th>\n",
              "      <td>B10_ALL_NAT.APCLN.edit6_mom0.fits</td>\n",
              "      <td>40.42</td>\n",
              "      <td>1.7</td>\n",
              "      <td>9.6</td>\n",
              "      <td>10.86780</td>\n",
              "      <td>5.08985</td>\n",
              "      <td>-56.1650</td>\n",
              "      <td>185.00551</td>\n",
              "      <td>8.60778</td>\n",
              "    </tr>\n",
              "  </tbody>\n",
              "</table>\n",
              "</div>"
            ]
          },
          "metadata": {}
        }
      ],
      "execution_count": 2,
      "metadata": {
        "collapsed": false,
        "outputHidden": false,
        "inputHidden": false
      }
    },
    {
      "cell_type": "code",
      "source": [
        "matplotlib.rcParams.update({'font.size': 8})"
      ],
      "outputs": [],
      "execution_count": 3,
      "metadata": {
        "collapsed": false,
        "outputHidden": false,
        "inputHidden": false
      }
    },
    {
      "cell_type": "code",
      "source": [
        "hIFits = fits.open(df['file name'][0])\n",
        "data = hIFits[0].data\n",
        "\nextent = np.repeat(np.array(data.shape) * df['pixel size'][0] / 2, 2) * [-1, 1, -1, 1]"
      ],
      "outputs": [],
      "execution_count": 8,
      "metadata": {
        "collapsed": false,
        "outputHidden": false,
        "inputHidden": false
      }
    },
    {
      "cell_type": "code",
      "source": [
        "# Create a WCS object\n",
        "w = WCS(df['file name'][0], naxis=2)\n",
        "\n",
        "center = w.all_world2pix([[df['ra'][0], df['dec'][0]]], 0)[0]\n",
        "\n",
        "# Find the offset of the center point of the galaxy from that of the image in pixel coordinates\n",
        "offset = center - np.array(data.shape) / 2\n",
        "print(offset)"
      ],
      "outputs": [
        {
          "output_type": "stream",
          "name": "stdout",
          "text": [
            "[-1.14066641  6.94824061]\n"
          ]
        }
      ],
      "execution_count": 9,
      "metadata": {
        "collapsed": false,
        "outputHidden": false,
        "inputHidden": false
      }
    },
    {
      "cell_type": "code",
      "source": [
        "fig, (ax0, ax1, ax2) = plt.subplots(figsize=(12, 5), ncols=3, sharey=True)\n",
        "\n",
        "ax0.set_title('Original orientation')\n",
        "ax0.imshow(data, origin='lower', cmap='inferno', extent=tuple(extent))\n",
        "\n",
        "# rotate around galaxy center to bar\n",
        "data_rotated = transform.rotate(data, df['rotation'][0], center=center)\n",
        "ax1.set_title('Bar as x-axis')\n",
        "\n",
        "ax1.imshow(data_rotated, origin='lower', cmap='inferno', extent=tuple(extent))\n",
        "\n",
        "# rotate to perp\n",
        "ax2.set_title('Bar as y-axis')\n",
        "data_rotated_perp = transform.rotate(data, df['rotation'][0] - 90, center=center)\n",
        "ax2.imshow(data_rotated_perp, origin='lower', cmap='inferno', extent=tuple(extent))\n",
        "\n",
        "print((center - np.array(data.shape) / 2) * df['pixel size'][0])\n",
        "for ax in (ax0, ax1, ax2):\n",
        "    ax.set_xlim(-70, 70)\n",
        "    ax.set_ylim(-70, 70)\n",
        "    ax.plot(*(center - np.array(data.shape) / 2) * df['pixel size'][0], 'w*', markersize=10)"
      ],
      "outputs": [
        {
          "output_type": "stream",
          "name": "stdout",
          "text": [
            "[-1.9391329  11.81200903]\n"
          ]
        },
        {
          "output_type": "display_data",
          "data": {
            "text/plain": [
              "<Figure size 864x360 with 3 Axes>"
            ],
            "image/png": "[encoded data removed]"
          },
          "metadata": {
            "needs_background": "light"
          }
        }
      ],
      "execution_count": 12,
      "metadata": {
        "collapsed": false,
        "outputHidden": false,
        "inputHidden": false
      }
    },
    {
      "cell_type": "code",
      "source": [
        "X, Y = np.mgrid[\n",
        "    0:data_rotated.shape[0]:data_rotated.shape[0]*1j,\n",
        "    center[1]-1:center[1]+1:6j\n",
        "]\n",
        "positions = np.vstack([X.ravel(), Y.ravel()])\n",
        "cross_section = map_coordinates(data_rotated, positions, order=1).reshape(-1, 6).mean(axis=1)"
      ],
      "outputs": [],
      "execution_count": 7,
      "metadata": {
        "collapsed": false,
        "outputHidden": false,
        "inputHidden": false
      }
    },
    {
      "cell_type": "code",
      "source": [
        "plt.figure(figsize=(15, 8))\n",
        "plt.subplot(121)\n",
        "plt.imshow(data_rotated, origin='lower', cmap='inferno', extent=extent)\n",
        "plt.plot(*((positions.T - np.array(data.shape) / 2)*df['pixel size'][0]).T, '.')\n",
        "plt.xlim(-70, 70)\n",
        "plt.ylim(-70, 70)\n",
        "plt.subplot(122)\n",
        "plt.plot(\n",
        "    np.linspace(extent[0], extent[1], 512),\n",
        "    cross_section,\n",
        ")\n",
        "plt.xlim(-70, 70)"
      ],
      "outputs": [],
      "execution_count": null,
      "metadata": {
        "collapsed": false,
        "outputHidden": false,
        "inputHidden": false
      }
    },
    {
      "cell_type": "code",
      "source": [
        "galaxy = makeGalaxyObject(df.iloc[0])\n",
        "m = 60\n",
        "shouldShowBar = True\n",
        "ticksize = 50\n",
        "beamPosition = [10, 10]\n",
        "\n",
        "n = m * 1.7 / galaxy['pixel size']\n",
        "lowerCrop = (galaxy['center'] - n).astype(int)\n",
        "upperCrop = (galaxy['center'] + n).astype(int)\n",
        "\n",
        "rotatedLowerCrop = (galaxy['rotatedCenter'] - n).astype(int)\n",
        "rotatedUpperCrop = (galaxy['rotatedCenter'] + n).astype(int)\n",
        "\n",
        "fig = plt.figure()\n",
        "ax = plt.gca()\n",
        "\n",
        "# show the HI data\n",
        "im = plt.imshow(\n",
        "    galaxy['hIFits'][0].data,\n",
        "    origin='lower',\n",
        "    cmap='inferno'\n",
        ")\n",
        "\n",
        "# Add rectangles to represent center region and bar size, in the correct orientation\n",
        "if shouldShowBar:\n",
        "    list(map(ax.add_artist, genBarRectangle(galaxy, galaxy['rotation matrix'])))\n",
        "\n",
        "# add the beam\n",
        "ax.add_artist(\n",
        "    genBeamEllipse(galaxy, center=lowerCrop + beamPosition)\n",
        ")\n",
        "\n",
        "# Choose the x-ticks we want to display (every 50 arcseconds)\n",
        "xticks = np.arange(-500, 500, ticksize)\n",
        "# figure out where they should be positioned and place them\n",
        "ax.set_xticks(xticks / galaxy['pixel size'] + galaxy['center'][0])\n",
        "# set the labels\n",
        "ax.set_xticklabels(xticks)\n",
        "\n",
        "# same as above for y-axis\n",
        "yticks = np.arange(-500, 500, ticksize)\n",
        "ax.set_yticks(yticks / galaxy['pixel size'] + galaxy['center'][1])\n",
        "ax.set_yticklabels(yticks)\n",
        "\n",
        "# axis labels\n",
        "ax.set_xlabel('Arcseconds from centre')\n",
        "ax.set_ylabel('Arcseconds from centre')\n",
        "\n",
        "# setting limits to crop our image\n",
        "ax.set_xlim(lowerCrop[0], upperCrop[0])\n",
        "ax.set_ylim(lowerCrop[1], upperCrop[1])\n",
        "\n",
        "# adjust the positioning so we can fit the colorbar in\n",
        "fig.subplots_adjust(left=0.1, bottom=0.1, right=0.95, top=0.9, wspace=0.5)\n",
        "\n",
        "# add the colorbar axes\n",
        "cbar = plt.colorbar()\n",
        "cbar.set_label('Intensity [JY.Hz]')"
      ],
      "outputs": [
        {
          "output_type": "display_data",
          "data": {
            "text/plain": [
              "<Figure size 432x288 with 2 Axes>"
            ],
            "image/png": "[encoded data removed]"
          },
          "metadata": {
            "needs_background": "light"
          }
        }
      ],
      "execution_count": 20,
      "metadata": {
        "collapsed": false,
        "outputHidden": false,
        "inputHidden": false
      }
    },
    {
      "cell_type": "code",
      "source": [],
      "outputs": [],
      "execution_count": null,
      "metadata": {
        "collapsed": false,
        "outputHidden": false,
        "inputHidden": false
      }
    }
  ],
  "metadata": {
    "kernel_info": {
      "name": "python3"
    },
    "language_info": {
      "name": "python",
      "version": "3.7.0",
      "mimetype": "text/x-python",
      "codemirror_mode": {
        "name": "ipython",
        "version": 3
      },
      "pygments_lexer": "ipython3",
      "nbconvert_exporter": "python",
      "file_extension": ".py"
    },
    "kernelspec": {
      "name": "python3",
      "language": "python",
      "display_name": "Python 3"
    },
    "nteract": {
      "version": "0.12.3"
    }
  },
  "nbformat": 4,
  "nbformat_minor": 4
}